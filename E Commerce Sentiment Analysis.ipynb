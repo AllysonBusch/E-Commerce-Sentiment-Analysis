{
 "cells": [
  {
   "cell_type": "markdown",
   "metadata": {},
   "source": [
    "Allyson Busch \n",
    "\n",
    "Winter 2019, Bellevue University \n",
    "\n",
    "# E-Commerce Clothing Reviews: Sentiment Analysis"
   ]
  },
  {
   "cell_type": "markdown",
   "metadata": {},
   "source": [
    "To start the project, I am loading the dataset and normal packages to be able to conduct the analysis. This project aims to create a sentiment analysis on a dataset of e-commerce clothing reviews that has been provided by Kaggle."
   ]
  },
  {
   "cell_type": "code",
   "execution_count": 1,
   "metadata": {},
   "outputs": [
    {
     "data": {
      "text/html": [
       "        <script type=\"text/javascript\">\n",
       "        window.PlotlyConfig = {MathJaxConfig: 'local'};\n",
       "        if (window.MathJax) {MathJax.Hub.Config({SVG: {font: \"STIX-Web\"}});}\n",
       "        if (typeof require !== 'undefined') {\n",
       "        require.undef(\"plotly\");\n",
       "        requirejs.config({\n",
       "            paths: {\n",
       "                'plotly': ['https://cdn.plot.ly/plotly-latest.min']\n",
       "            }\n",
       "        });\n",
       "        require(['plotly'], function(Plotly) {\n",
       "            window._Plotly = Plotly;\n",
       "        });\n",
       "        }\n",
       "        </script>\n",
       "        "
      ]
     },
     "metadata": {},
     "output_type": "display_data"
    }
   ],
   "source": [
    "#libraries \n",
    "import pandas as pd\n",
    "import numpy as np\n",
    "import matplotlib.pyplot as plt\n",
    "import seaborn as sns\n",
    "import datetime as dt\n",
    "from sklearn.feature_extraction.text import CountVectorizer\n",
    "from sklearn.model_selection import train_test_split\n",
    "from sklearn.linear_model import LogisticRegression\n",
    "from sklearn.naive_bayes import MultinomialNB\n",
    "from sklearn.metrics import roc_curve, auc\n",
    "from sklearn.neural_network import MLPClassifier\n",
    "from sklearn.svm import SVC\n",
    "from sklearn.metrics import confusion_matrix \n",
    "from plotly import tools\n",
    "import plotly.offline as py\n",
    "py.init_notebook_mode(connected=True)\n",
    "import plotly.graph_objs as go\n",
    "%matplotlib inline\n",
    "import warnings\n",
    "warnings.filterwarnings('ignore')"
   ]
  },
  {
   "cell_type": "code",
   "execution_count": 2,
   "metadata": {},
   "outputs": [],
   "source": [
    "#importing the data \n",
    "reviews = pd.read_csv(\"reviews.csv\", index_col = 1)"
   ]
  },
  {
   "cell_type": "code",
   "execution_count": 3,
   "metadata": {
    "scrolled": true
   },
   "outputs": [
    {
     "data": {
      "text/html": [
       "<div>\n",
       "<style scoped>\n",
       "    .dataframe tbody tr th:only-of-type {\n",
       "        vertical-align: middle;\n",
       "    }\n",
       "\n",
       "    .dataframe tbody tr th {\n",
       "        vertical-align: top;\n",
       "    }\n",
       "\n",
       "    .dataframe thead th {\n",
       "        text-align: right;\n",
       "    }\n",
       "</style>\n",
       "<table border=\"1\" class=\"dataframe\">\n",
       "  <thead>\n",
       "    <tr style=\"text-align: right;\">\n",
       "      <th></th>\n",
       "      <th>Unnamed: 0</th>\n",
       "      <th>Age</th>\n",
       "      <th>Title</th>\n",
       "      <th>Review Text</th>\n",
       "      <th>Rating</th>\n",
       "      <th>Recommended IND</th>\n",
       "      <th>Positive Feedback Count</th>\n",
       "      <th>Division Name</th>\n",
       "      <th>Department Name</th>\n",
       "      <th>Class Name</th>\n",
       "    </tr>\n",
       "    <tr>\n",
       "      <th>Clothing ID</th>\n",
       "      <th></th>\n",
       "      <th></th>\n",
       "      <th></th>\n",
       "      <th></th>\n",
       "      <th></th>\n",
       "      <th></th>\n",
       "      <th></th>\n",
       "      <th></th>\n",
       "      <th></th>\n",
       "      <th></th>\n",
       "    </tr>\n",
       "  </thead>\n",
       "  <tbody>\n",
       "    <tr>\n",
       "      <th>767</th>\n",
       "      <td>0</td>\n",
       "      <td>33</td>\n",
       "      <td>NaN</td>\n",
       "      <td>Absolutely wonderful - silky and sexy and comf...</td>\n",
       "      <td>4</td>\n",
       "      <td>1</td>\n",
       "      <td>0</td>\n",
       "      <td>Initmates</td>\n",
       "      <td>Intimate</td>\n",
       "      <td>Intimates</td>\n",
       "    </tr>\n",
       "    <tr>\n",
       "      <th>1080</th>\n",
       "      <td>1</td>\n",
       "      <td>34</td>\n",
       "      <td>NaN</td>\n",
       "      <td>Love this dress!  it's sooo pretty.  i happene...</td>\n",
       "      <td>5</td>\n",
       "      <td>1</td>\n",
       "      <td>4</td>\n",
       "      <td>General</td>\n",
       "      <td>Dresses</td>\n",
       "      <td>Dresses</td>\n",
       "    </tr>\n",
       "    <tr>\n",
       "      <th>1077</th>\n",
       "      <td>2</td>\n",
       "      <td>60</td>\n",
       "      <td>Some major design flaws</td>\n",
       "      <td>I had such high hopes for this dress and reall...</td>\n",
       "      <td>3</td>\n",
       "      <td>0</td>\n",
       "      <td>0</td>\n",
       "      <td>General</td>\n",
       "      <td>Dresses</td>\n",
       "      <td>Dresses</td>\n",
       "    </tr>\n",
       "    <tr>\n",
       "      <th>1049</th>\n",
       "      <td>3</td>\n",
       "      <td>50</td>\n",
       "      <td>My favorite buy!</td>\n",
       "      <td>I love, love, love this jumpsuit. it's fun, fl...</td>\n",
       "      <td>5</td>\n",
       "      <td>1</td>\n",
       "      <td>0</td>\n",
       "      <td>General Petite</td>\n",
       "      <td>Bottoms</td>\n",
       "      <td>Pants</td>\n",
       "    </tr>\n",
       "    <tr>\n",
       "      <th>847</th>\n",
       "      <td>4</td>\n",
       "      <td>47</td>\n",
       "      <td>Flattering shirt</td>\n",
       "      <td>This shirt is very flattering to all due to th...</td>\n",
       "      <td>5</td>\n",
       "      <td>1</td>\n",
       "      <td>6</td>\n",
       "      <td>General</td>\n",
       "      <td>Tops</td>\n",
       "      <td>Blouses</td>\n",
       "    </tr>\n",
       "  </tbody>\n",
       "</table>\n",
       "</div>"
      ],
      "text/plain": [
       "             Unnamed: 0  Age                    Title  \\\n",
       "Clothing ID                                             \n",
       "767                   0   33                      NaN   \n",
       "1080                  1   34                      NaN   \n",
       "1077                  2   60  Some major design flaws   \n",
       "1049                  3   50         My favorite buy!   \n",
       "847                   4   47         Flattering shirt   \n",
       "\n",
       "                                                   Review Text  Rating  \\\n",
       "Clothing ID                                                              \n",
       "767          Absolutely wonderful - silky and sexy and comf...       4   \n",
       "1080         Love this dress!  it's sooo pretty.  i happene...       5   \n",
       "1077         I had such high hopes for this dress and reall...       3   \n",
       "1049         I love, love, love this jumpsuit. it's fun, fl...       5   \n",
       "847          This shirt is very flattering to all due to th...       5   \n",
       "\n",
       "             Recommended IND  Positive Feedback Count   Division Name  \\\n",
       "Clothing ID                                                             \n",
       "767                        1                        0       Initmates   \n",
       "1080                       1                        4         General   \n",
       "1077                       0                        0         General   \n",
       "1049                       1                        0  General Petite   \n",
       "847                        1                        6         General   \n",
       "\n",
       "            Department Name Class Name  \n",
       "Clothing ID                             \n",
       "767                Intimate  Intimates  \n",
       "1080                Dresses    Dresses  \n",
       "1077                Dresses    Dresses  \n",
       "1049                Bottoms      Pants  \n",
       "847                    Tops    Blouses  "
      ]
     },
     "execution_count": 3,
     "metadata": {},
     "output_type": "execute_result"
    }
   ],
   "source": [
    "reviews.head()"
   ]
  },
  {
   "cell_type": "code",
   "execution_count": 4,
   "metadata": {},
   "outputs": [
    {
     "data": {
      "text/plain": [
       "Unnamed: 0                 23486\n",
       "Age                        23486\n",
       "Title                      19676\n",
       "Review Text                22641\n",
       "Rating                     23486\n",
       "Recommended IND            23486\n",
       "Positive Feedback Count    23486\n",
       "Division Name              23472\n",
       "Department Name            23472\n",
       "Class Name                 23472\n",
       "dtype: int64"
      ]
     },
     "execution_count": 4,
     "metadata": {},
     "output_type": "execute_result"
    }
   ],
   "source": [
    "reviews.count()"
   ]
  },
  {
   "cell_type": "code",
   "execution_count": 5,
   "metadata": {},
   "outputs": [],
   "source": [
    "#dropping the unnecessary Unnamed: 0 column\n",
    "reviews.drop(columns = \"Unnamed: 0\", inplace = True)"
   ]
  },
  {
   "cell_type": "code",
   "execution_count": 6,
   "metadata": {},
   "outputs": [
    {
     "data": {
      "text/html": [
       "<div>\n",
       "<style scoped>\n",
       "    .dataframe tbody tr th:only-of-type {\n",
       "        vertical-align: middle;\n",
       "    }\n",
       "\n",
       "    .dataframe tbody tr th {\n",
       "        vertical-align: top;\n",
       "    }\n",
       "\n",
       "    .dataframe thead th {\n",
       "        text-align: right;\n",
       "    }\n",
       "</style>\n",
       "<table border=\"1\" class=\"dataframe\">\n",
       "  <thead>\n",
       "    <tr style=\"text-align: right;\">\n",
       "      <th></th>\n",
       "      <th>Age</th>\n",
       "      <th>Title</th>\n",
       "      <th>Review Text</th>\n",
       "      <th>Rating</th>\n",
       "      <th>Recommended IND</th>\n",
       "      <th>Positive Feedback Count</th>\n",
       "      <th>Division Name</th>\n",
       "      <th>Department Name</th>\n",
       "      <th>Class Name</th>\n",
       "    </tr>\n",
       "    <tr>\n",
       "      <th>Clothing ID</th>\n",
       "      <th></th>\n",
       "      <th></th>\n",
       "      <th></th>\n",
       "      <th></th>\n",
       "      <th></th>\n",
       "      <th></th>\n",
       "      <th></th>\n",
       "      <th></th>\n",
       "      <th></th>\n",
       "    </tr>\n",
       "  </thead>\n",
       "  <tbody>\n",
       "    <tr>\n",
       "      <th>767</th>\n",
       "      <td>33</td>\n",
       "      <td>NaN</td>\n",
       "      <td>Absolutely wonderful - silky and sexy and comf...</td>\n",
       "      <td>4</td>\n",
       "      <td>1</td>\n",
       "      <td>0</td>\n",
       "      <td>Initmates</td>\n",
       "      <td>Intimate</td>\n",
       "      <td>Intimates</td>\n",
       "    </tr>\n",
       "    <tr>\n",
       "      <th>1080</th>\n",
       "      <td>34</td>\n",
       "      <td>NaN</td>\n",
       "      <td>Love this dress!  it's sooo pretty.  i happene...</td>\n",
       "      <td>5</td>\n",
       "      <td>1</td>\n",
       "      <td>4</td>\n",
       "      <td>General</td>\n",
       "      <td>Dresses</td>\n",
       "      <td>Dresses</td>\n",
       "    </tr>\n",
       "    <tr>\n",
       "      <th>1077</th>\n",
       "      <td>60</td>\n",
       "      <td>Some major design flaws</td>\n",
       "      <td>I had such high hopes for this dress and reall...</td>\n",
       "      <td>3</td>\n",
       "      <td>0</td>\n",
       "      <td>0</td>\n",
       "      <td>General</td>\n",
       "      <td>Dresses</td>\n",
       "      <td>Dresses</td>\n",
       "    </tr>\n",
       "    <tr>\n",
       "      <th>1049</th>\n",
       "      <td>50</td>\n",
       "      <td>My favorite buy!</td>\n",
       "      <td>I love, love, love this jumpsuit. it's fun, fl...</td>\n",
       "      <td>5</td>\n",
       "      <td>1</td>\n",
       "      <td>0</td>\n",
       "      <td>General Petite</td>\n",
       "      <td>Bottoms</td>\n",
       "      <td>Pants</td>\n",
       "    </tr>\n",
       "    <tr>\n",
       "      <th>847</th>\n",
       "      <td>47</td>\n",
       "      <td>Flattering shirt</td>\n",
       "      <td>This shirt is very flattering to all due to th...</td>\n",
       "      <td>5</td>\n",
       "      <td>1</td>\n",
       "      <td>6</td>\n",
       "      <td>General</td>\n",
       "      <td>Tops</td>\n",
       "      <td>Blouses</td>\n",
       "    </tr>\n",
       "  </tbody>\n",
       "</table>\n",
       "</div>"
      ],
      "text/plain": [
       "             Age                    Title  \\\n",
       "Clothing ID                                 \n",
       "767           33                      NaN   \n",
       "1080          34                      NaN   \n",
       "1077          60  Some major design flaws   \n",
       "1049          50         My favorite buy!   \n",
       "847           47         Flattering shirt   \n",
       "\n",
       "                                                   Review Text  Rating  \\\n",
       "Clothing ID                                                              \n",
       "767          Absolutely wonderful - silky and sexy and comf...       4   \n",
       "1080         Love this dress!  it's sooo pretty.  i happene...       5   \n",
       "1077         I had such high hopes for this dress and reall...       3   \n",
       "1049         I love, love, love this jumpsuit. it's fun, fl...       5   \n",
       "847          This shirt is very flattering to all due to th...       5   \n",
       "\n",
       "             Recommended IND  Positive Feedback Count   Division Name  \\\n",
       "Clothing ID                                                             \n",
       "767                        1                        0       Initmates   \n",
       "1080                       1                        4         General   \n",
       "1077                       0                        0         General   \n",
       "1049                       1                        0  General Petite   \n",
       "847                        1                        6         General   \n",
       "\n",
       "            Department Name Class Name  \n",
       "Clothing ID                             \n",
       "767                Intimate  Intimates  \n",
       "1080                Dresses    Dresses  \n",
       "1077                Dresses    Dresses  \n",
       "1049                Bottoms      Pants  \n",
       "847                    Tops    Blouses  "
      ]
     },
     "execution_count": 6,
     "metadata": {},
     "output_type": "execute_result"
    }
   ],
   "source": [
    "reviews.head()"
   ]
  },
  {
   "cell_type": "markdown",
   "metadata": {},
   "source": [
    "After loading the dataset, I took an initial look at the first 5 lines of data in the dataset. The headers imported correctly, but there was an additional column that I dropped as it was unneeded."
   ]
  },
  {
   "cell_type": "code",
   "execution_count": 7,
   "metadata": {},
   "outputs": [
    {
     "name": "stdout",
     "output_type": "stream",
     "text": [
      "<class 'pandas.core.frame.DataFrame'>\n",
      "Int64Index: 23486 entries, 767 to 1104\n",
      "Data columns (total 9 columns):\n",
      "Age                        23486 non-null int64\n",
      "Title                      19676 non-null object\n",
      "Review Text                22641 non-null object\n",
      "Rating                     23486 non-null int64\n",
      "Recommended IND            23486 non-null int64\n",
      "Positive Feedback Count    23486 non-null int64\n",
      "Division Name              23472 non-null object\n",
      "Department Name            23472 non-null object\n",
      "Class Name                 23472 non-null object\n",
      "dtypes: int64(4), object(5)\n",
      "memory usage: 1.8+ MB\n"
     ]
    }
   ],
   "source": [
    "reviews.info()"
   ]
  },
  {
   "cell_type": "markdown",
   "metadata": {},
   "source": [
    "Overall, there are 23,486 entries in the dataset, but there appears to be an inconsistent amount in each variable, meaning the dataset contains null values."
   ]
  },
  {
   "cell_type": "code",
   "execution_count": 8,
   "metadata": {},
   "outputs": [
    {
     "data": {
      "text/plain": [
       "Age                           0\n",
       "Title                      3810\n",
       "Review Text                 845\n",
       "Rating                        0\n",
       "Recommended IND               0\n",
       "Positive Feedback Count       0\n",
       "Division Name                14\n",
       "Department Name              14\n",
       "Class Name                   14\n",
       "dtype: int64"
      ]
     },
     "execution_count": 8,
     "metadata": {},
     "output_type": "execute_result"
    }
   ],
   "source": [
    "reviews.isnull().sum()"
   ]
  },
  {
   "cell_type": "markdown",
   "metadata": {},
   "source": [
    "There are 3,810 entries that are missing titles, and 84 that are missing review text. These are likely guests who left only ratings but did not write a text review on the website. Additionally, there are 14 that are missing category names. Since we have such a large dataset, I am going to create a second dataset that does not contain these null values in the review text, but retain the original dataset to compare ratings. "
   ]
  },
  {
   "cell_type": "code",
   "execution_count": 9,
   "metadata": {},
   "outputs": [],
   "source": [
    "#duplicating the data set\n",
    "ecom = reviews"
   ]
  },
  {
   "cell_type": "code",
   "execution_count": 10,
   "metadata": {},
   "outputs": [],
   "source": [
    "ecom.dropna(subset = ['Review Text'], inplace = True)"
   ]
  },
  {
   "cell_type": "code",
   "execution_count": 11,
   "metadata": {},
   "outputs": [
    {
     "data": {
      "text/plain": [
       "Age                           0\n",
       "Title                      2966\n",
       "Review Text                   0\n",
       "Rating                        0\n",
       "Recommended IND               0\n",
       "Positive Feedback Count       0\n",
       "Division Name                13\n",
       "Department Name              13\n",
       "Class Name                   13\n",
       "dtype: int64"
      ]
     },
     "execution_count": 11,
     "metadata": {},
     "output_type": "execute_result"
    }
   ],
   "source": [
    "ecom.isnull().sum()"
   ]
  },
  {
   "cell_type": "markdown",
   "metadata": {},
   "source": [
    "## Exploratory Data Analysis\n",
    "\n",
    "I now want to look at the distribution of ratings between the initial dataset and the one with null values removed. Starting with the initial dataset:"
   ]
  },
  {
   "cell_type": "code",
   "execution_count": 12,
   "metadata": {},
   "outputs": [
    {
     "data": {
      "image/png": "[encoded data removed]",
      "text/plain": [
       "<Figure size 1008x360 with 1 Axes>"
      ]
     },
     "metadata": {},
     "output_type": "display_data"
    }
   ],
   "source": [
    "sns.set(style='darkgrid')\n",
    "\n",
    "plt.figure(figsize=(14,5))\n",
    "ax = sns.countplot(x='Rating', data = reviews)\n",
    "ax.set_title(\"Distribution of Ratings, Full Dataset\", fontsize=14)\n",
    "\n",
    "x=reviews['Rating'].value_counts()\n",
    "\n",
    "rects = ax.patches\n",
    "labels = x.values\n",
    "for rect, label in zip(rects, labels):\n",
    "    height = rect.get_height()\n",
    "    ax.text(rect.get_x() + rect.get_width()/2, height + 5, label, ha = 'center', va='bottom')"
   ]
  },
  {
   "cell_type": "markdown",
   "metadata": {},
   "source": [
    "The ratings seem very skewed to the right, with more five star ratings than any other category. The graphly is linear, and almost exponential in shape."
   ]
  },
  {
   "cell_type": "markdown",
   "metadata": {},
   "source": [
    "Now I am going to create the same graph with the dataset that excludes null values."
   ]
  },
  {
   "cell_type": "code",
   "execution_count": 13,
   "metadata": {},
   "outputs": [
    {
     "data": {
      "image/png": "[encoded data removed]",
      "text/plain": [
       "<Figure size 1008x360 with 1 Axes>"
      ]
     },
     "metadata": {},
     "output_type": "display_data"
    }
   ],
   "source": [
    "sns.set(style='darkgrid')\n",
    "\n",
    "plt.figure(figsize=(14,5))\n",
    "ax = sns.countplot(x='Rating', data = ecom)\n",
    "ax.set_title(\"Distribution of Ratings, No Null\", fontsize=14)\n",
    "\n",
    "x=ecom['Rating'].value_counts()\n",
    "\n",
    "rects = ax.patches\n",
    "labels = x.values\n",
    "for rect, label in zip(rects, labels):\n",
    "    height = rect.get_height()\n",
    "    ax.text(rect.get_x() + rect.get_width()/2, height + 5, label, ha = 'center', va='bottom')"
   ]
  },
  {
   "cell_type": "markdown",
   "metadata": {},
   "source": [
    "There is not much difference between the two datasets and it appears the ratings are evenly distributed between the different rating levels. As such, this will not greatly affect the overall dataset evaluation moving forward as the whole of missing valued did not come from only one category."
   ]
  },
  {
   "cell_type": "code",
   "execution_count": 14,
   "metadata": {},
   "outputs": [
    {
     "data": {
      "text/plain": [
       "count    22641.000000\n",
       "mean         4.183561\n",
       "std          1.115762\n",
       "min          1.000000\n",
       "25%          4.000000\n",
       "50%          5.000000\n",
       "75%          5.000000\n",
       "max          5.000000\n",
       "Name: Rating, dtype: float64"
      ]
     },
     "execution_count": 14,
     "metadata": {},
     "output_type": "execute_result"
    }
   ],
   "source": [
    "reviews['Rating'].describe()"
   ]
  },
  {
   "cell_type": "code",
   "execution_count": 15,
   "metadata": {
    "scrolled": true
   },
   "outputs": [
    {
     "data": {
      "text/plain": [
       "count    22641.000000\n",
       "mean         4.183561\n",
       "std          1.115762\n",
       "min          1.000000\n",
       "25%          4.000000\n",
       "50%          5.000000\n",
       "75%          5.000000\n",
       "max          5.000000\n",
       "Name: Rating, dtype: float64"
      ]
     },
     "execution_count": 15,
     "metadata": {},
     "output_type": "execute_result"
    }
   ],
   "source": [
    "ecom['Rating'].describe()"
   ]
  },
  {
   "cell_type": "markdown",
   "metadata": {},
   "source": [
    "Looking at the summary statistics of the Rating variable, the mean is 4.18 which makes sense looking at the distribution abbove. As we suspected from the graph, there are no outliers outside of the 1-5 rating system, meaning that we do not have to remove any values. The standard deviation is 1.12, which is relatively high for a variable that ranges only from 1 to 5. \n",
    "\n",
    "Moving forward, I want to take a look into the ages of the guests."
   ]
  },
  {
   "cell_type": "code",
   "execution_count": 16,
   "metadata": {},
   "outputs": [
    {
     "data": {
      "text/plain": [
       "Text(0.5,1,'Age Distribution')"
      ]
     },
     "execution_count": 16,
     "metadata": {},
     "output_type": "execute_result"
    },
    {
     "data": {
      "image/png": "[encoded data removed]",
      "text/plain": [
       "<Figure size 1008x360 with 1 Axes>"
      ]
     },
     "metadata": {},
     "output_type": "display_data"
    }
   ],
   "source": [
    "sns.set(style=\"darkgrid\")\n",
    "plt.figure(figsize = (14,5))\n",
    "sns.distplot(ecom['Age'], hist_kws = dict(edgecolor = 'k')).set_title(\"Age Distribution\")"
   ]
  },
  {
   "cell_type": "markdown",
   "metadata": {},
   "source": [
    "There does not appear to be any outliers in the dataset of unusual ages that would be outside the metrics. Most of the ages peak at around 38 and the graph is skewed to the left, meaning it is skewed to report younger ages. This could be because the younger generations are more likely to buy and review clothing online than those of the older age demographic, who may still continue to shop in brick and morter stores, but we do not have anything else at this time to solidify this information."
   ]
  },
  {
   "cell_type": "code",
   "execution_count": 17,
   "metadata": {},
   "outputs": [
    {
     "data": {
      "text/plain": [
       "count    22641.000000\n",
       "mean        43.280376\n",
       "std         12.326980\n",
       "min         18.000000\n",
       "25%         34.000000\n",
       "50%         41.000000\n",
       "75%         52.000000\n",
       "max         99.000000\n",
       "Name: Age, dtype: float64"
      ]
     },
     "execution_count": 17,
     "metadata": {},
     "output_type": "execute_result"
    }
   ],
   "source": [
    "ecom['Age'].describe()"
   ]
  },
  {
   "cell_type": "markdown",
   "metadata": {},
   "source": [
    "The mean of the data is 43, with a standard deviation of 12.33 which is relatively high. The maximum age is 99 and the minimum age is 18, which seems within the range that would be allowed. It is important to keep in mind that these are self reported ages, meaning there could be errors or guests could be lying about their age, but they would have no factor pushing them to actively lie about their age.\n",
    "\n",
    "Moving forward, I want to look into the amount of reviews per product category."
   ]
  },
  {
   "cell_type": "code",
   "execution_count": 18,
   "metadata": {},
   "outputs": [
    {
     "data": {
      "image/png": "[encoded data removed]",
      "text/plain": [
       "<Figure size 1008x360 with 1 Axes>"
      ]
     },
     "metadata": {},
     "output_type": "display_data"
    }
   ],
   "source": [
    "plt.figure(figsize = (14,5))\n",
    "ax = sns.countplot(x = \"Department Name\", data=ecom, order = ecom['Department Name'].value_counts().index)\n",
    "ax.set_title(\"Reviews per Department\", fontsize = 14)\n",
    "ax.set_ylabel(\"Number of Reviews\", fontsize = 12)\n",
    "ax.set_xlabel(\"Department\", fontsize = 12)\n",
    "\n",
    "x = ecom[\"Department Name\"].value_counts()\n",
    "\n",
    "rects = ax.patches\n",
    "labels = x.values\n",
    "for rect, label in zip(rects, labels):\n",
    "    heights = rect.get_height()\n",
    "    ax.text(rect.get_x() + rect.get_width()/2, height + 5, label, ha = 'center', va = 'bottom')"
   ]
  },
  {
   "cell_type": "markdown",
   "metadata": {},
   "source": [
    "Looking at this graph, most of the reviews are for tops, with dresses and bottoms coming in second and third. This means the data isn't evenly distributed between the department types. Looking into this further, I created a box plot to look if the ratings were skewed for each department, to see if tops were being rated loewr than dresses, or some other example. "
   ]
  },
  {
   "cell_type": "code",
   "execution_count": 19,
   "metadata": {
    "scrolled": true
   },
   "outputs": [
    {
     "data": {
      "text/plain": [
       "<matplotlib.axes._subplots.AxesSubplot at 0x21a8c42df98>"
      ]
     },
     "execution_count": 19,
     "metadata": {},
     "output_type": "execute_result"
    },
    {
     "data": {
      "image/png": "[encoded data removed]",
      "text/plain": [
       "<Figure size 432x288 with 1 Axes>"
      ]
     },
     "metadata": {},
     "output_type": "display_data"
    }
   ],
   "source": [
    "sns.boxplot(x=\"Department Name\", y=\"Rating\", data=ecom)"
   ]
  },
  {
   "cell_type": "markdown",
   "metadata": {},
   "source": [
    "There does not seem to be a big discrepancy in this graph, but further approaches to make graphs in Python crashed the application because of the amount of data."
   ]
  },
  {
   "cell_type": "markdown",
   "metadata": {},
   "source": [
    "We are now moving into adding a length column to start the next analysis, which is what the average length of a review is and what we can determine from this information."
   ]
  },
  {
   "cell_type": "code",
   "execution_count": 20,
   "metadata": {},
   "outputs": [
    {
     "data": {
      "text/html": [
       "<div>\n",
       "<style scoped>\n",
       "    .dataframe tbody tr th:only-of-type {\n",
       "        vertical-align: middle;\n",
       "    }\n",
       "\n",
       "    .dataframe tbody tr th {\n",
       "        vertical-align: top;\n",
       "    }\n",
       "\n",
       "    .dataframe thead th {\n",
       "        text-align: right;\n",
       "    }\n",
       "</style>\n",
       "<table border=\"1\" class=\"dataframe\">\n",
       "  <thead>\n",
       "    <tr style=\"text-align: right;\">\n",
       "      <th></th>\n",
       "      <th>Age</th>\n",
       "      <th>Title</th>\n",
       "      <th>Review Text</th>\n",
       "      <th>Rating</th>\n",
       "      <th>Recommended IND</th>\n",
       "      <th>Positive Feedback Count</th>\n",
       "      <th>Division Name</th>\n",
       "      <th>Department Name</th>\n",
       "      <th>Class Name</th>\n",
       "      <th>Length</th>\n",
       "    </tr>\n",
       "    <tr>\n",
       "      <th>Clothing ID</th>\n",
       "      <th></th>\n",
       "      <th></th>\n",
       "      <th></th>\n",
       "      <th></th>\n",
       "      <th></th>\n",
       "      <th></th>\n",
       "      <th></th>\n",
       "      <th></th>\n",
       "      <th></th>\n",
       "      <th></th>\n",
       "    </tr>\n",
       "  </thead>\n",
       "  <tbody>\n",
       "    <tr>\n",
       "      <th>767</th>\n",
       "      <td>33</td>\n",
       "      <td>NaN</td>\n",
       "      <td>Absolutely wonderful - silky and sexy and comf...</td>\n",
       "      <td>4</td>\n",
       "      <td>1</td>\n",
       "      <td>0</td>\n",
       "      <td>Initmates</td>\n",
       "      <td>Intimate</td>\n",
       "      <td>Intimates</td>\n",
       "      <td>53</td>\n",
       "    </tr>\n",
       "    <tr>\n",
       "      <th>1080</th>\n",
       "      <td>34</td>\n",
       "      <td>NaN</td>\n",
       "      <td>Love this dress!  it's sooo pretty.  i happene...</td>\n",
       "      <td>5</td>\n",
       "      <td>1</td>\n",
       "      <td>4</td>\n",
       "      <td>General</td>\n",
       "      <td>Dresses</td>\n",
       "      <td>Dresses</td>\n",
       "      <td>303</td>\n",
       "    </tr>\n",
       "    <tr>\n",
       "      <th>1077</th>\n",
       "      <td>60</td>\n",
       "      <td>Some major design flaws</td>\n",
       "      <td>I had such high hopes for this dress and reall...</td>\n",
       "      <td>3</td>\n",
       "      <td>0</td>\n",
       "      <td>0</td>\n",
       "      <td>General</td>\n",
       "      <td>Dresses</td>\n",
       "      <td>Dresses</td>\n",
       "      <td>500</td>\n",
       "    </tr>\n",
       "    <tr>\n",
       "      <th>1049</th>\n",
       "      <td>50</td>\n",
       "      <td>My favorite buy!</td>\n",
       "      <td>I love, love, love this jumpsuit. it's fun, fl...</td>\n",
       "      <td>5</td>\n",
       "      <td>1</td>\n",
       "      <td>0</td>\n",
       "      <td>General Petite</td>\n",
       "      <td>Bottoms</td>\n",
       "      <td>Pants</td>\n",
       "      <td>124</td>\n",
       "    </tr>\n",
       "    <tr>\n",
       "      <th>847</th>\n",
       "      <td>47</td>\n",
       "      <td>Flattering shirt</td>\n",
       "      <td>This shirt is very flattering to all due to th...</td>\n",
       "      <td>5</td>\n",
       "      <td>1</td>\n",
       "      <td>6</td>\n",
       "      <td>General</td>\n",
       "      <td>Tops</td>\n",
       "      <td>Blouses</td>\n",
       "      <td>192</td>\n",
       "    </tr>\n",
       "  </tbody>\n",
       "</table>\n",
       "</div>"
      ],
      "text/plain": [
       "             Age                    Title  \\\n",
       "Clothing ID                                 \n",
       "767           33                      NaN   \n",
       "1080          34                      NaN   \n",
       "1077          60  Some major design flaws   \n",
       "1049          50         My favorite buy!   \n",
       "847           47         Flattering shirt   \n",
       "\n",
       "                                                   Review Text  Rating  \\\n",
       "Clothing ID                                                              \n",
       "767          Absolutely wonderful - silky and sexy and comf...       4   \n",
       "1080         Love this dress!  it's sooo pretty.  i happene...       5   \n",
       "1077         I had such high hopes for this dress and reall...       3   \n",
       "1049         I love, love, love this jumpsuit. it's fun, fl...       5   \n",
       "847          This shirt is very flattering to all due to th...       5   \n",
       "\n",
       "             Recommended IND  Positive Feedback Count   Division Name  \\\n",
       "Clothing ID                                                             \n",
       "767                        1                        0       Initmates   \n",
       "1080                       1                        4         General   \n",
       "1077                       0                        0         General   \n",
       "1049                       1                        0  General Petite   \n",
       "847                        1                        6         General   \n",
       "\n",
       "            Department Name Class Name  Length  \n",
       "Clothing ID                                     \n",
       "767                Intimate  Intimates      53  \n",
       "1080                Dresses    Dresses     303  \n",
       "1077                Dresses    Dresses     500  \n",
       "1049                Bottoms      Pants     124  \n",
       "847                    Tops    Blouses     192  "
      ]
     },
     "execution_count": 20,
     "metadata": {},
     "output_type": "execute_result"
    }
   ],
   "source": [
    "#adding a length column\n",
    "ecom['Length'] = ecom['Review Text'].apply(len)\n",
    "ecom.head()"
   ]
  },
  {
   "cell_type": "code",
   "execution_count": 21,
   "metadata": {
    "scrolled": true
   },
   "outputs": [
    {
     "data": {
      "text/plain": [
       "<seaborn.axisgrid.FacetGrid at 0x21a8c4e49b0>"
      ]
     },
     "execution_count": 21,
     "metadata": {},
     "output_type": "execute_result"
    },
    {
     "data": {
      "image/png": "[encoded data removed]",
      "text/plain": [
       "<Figure size 1080x216 with 5 Axes>"
      ]
     },
     "metadata": {},
     "output_type": "display_data"
    }
   ],
   "source": [
    "d = sns.FacetGrid(ecom, col='Rating')\n",
    "d.map(plt.hist,'Length', bins = 30)"
   ]
  },
  {
   "cell_type": "code",
   "execution_count": 22,
   "metadata": {},
   "outputs": [
    {
     "data": {
      "text/plain": [
       "<matplotlib.axes._subplots.AxesSubplot at 0x21a8c85a940>"
      ]
     },
     "execution_count": 22,
     "metadata": {},
     "output_type": "execute_result"
    },
    {
     "data": {
      "image/png": "[encoded data removed]",
      "text/plain": [
       "<Figure size 1008x720 with 1 Axes>"
      ]
     },
     "metadata": {},
     "output_type": "display_data"
    }
   ],
   "source": [
    "plt.figure(figsize = (14,10))\n",
    "sns.boxplot(x = 'Rating', y = 'Length', data = ecom, palette = 'rainbow')"
   ]
  },
  {
   "cell_type": "markdown",
   "metadata": {},
   "source": [
    "Looking first at the averages across all five ratings, there is not a huge discrepancy in where they lie which is good to note. It seems to follow a normal bell curve with ratings of 3 having on average longer reviews than the other categories. Category 4 in particular has a wide range of 1st and 3rd quartiles but there are no huge outliers in the data presented. \n",
    "\n",
    "I now want to look into the length of review by department."
   ]
  },
  {
   "cell_type": "code",
   "execution_count": 23,
   "metadata": {},
   "outputs": [
    {
     "data": {
      "image/png": "[encoded data removed]",
      "text/plain": [
       "<Figure size 1008x720 with 1 Axes>"
      ]
     },
     "metadata": {},
     "output_type": "display_data"
    }
   ],
   "source": [
    "plt.style.use('ggplot')\n",
    "\n",
    "ax1 = plt.figure(figsize = (14,10))\n",
    "ax1 = plt.xticks(rotation = 45)\n",
    "ax1 = sns.boxplot(x = 'Department Name', y = 'Length', data = ecom)\n",
    "ax1 = plt.title('Review Length by Department')"
   ]
  },
  {
   "cell_type": "markdown",
   "metadata": {},
   "source": [
    "This box plot shows a little more variability in averages, with dresses and jackets tending to have longer reviews than intimates or tops. I now want to look into trends with recommendations versus not recommended reviews."
   ]
  },
  {
   "cell_type": "code",
   "execution_count": 24,
   "metadata": {},
   "outputs": [],
   "source": [
    "recommended = ecom[ecom['Recommended IND']==1]\n",
    "not_recommended = ecom[ecom['Recommended IND']==0]"
   ]
  },
  {
   "cell_type": "code",
   "execution_count": 25,
   "metadata": {},
   "outputs": [
    {
     "data": {
      "image/png": "[encoded data removed]",
      "text/plain": [
       "<Figure size 1008x720 with 1 Axes>"
      ]
     },
     "metadata": {},
     "output_type": "display_data"
    }
   ],
   "source": [
    "fig = plt.figure(figsize = (14, 10))\n",
    "ax1 = sns.countplot(recommended['Department Name'], color = \"green\", alpha = 0.8, label = \"Recommended\")\n",
    "ax1 = sns.countplot(not_recommended['Department Name'], color = \"red\", alpha = 0.8, label = \"Not Recommended\")\n",
    "ax1 = plt.title(\"Recommended Items in each Department\")\n",
    "ax1 = plt.legend()"
   ]
  },
  {
   "cell_type": "markdown",
   "metadata": {},
   "source": [
    "The intimates, jackets, and bottoms departments have a large percentage of positive recommendations versus the amount of not recommended reviews. However, tops and dresses have a large negative reaction, with dresses being particularly bad. Trend department doesn't have a large percentage either way, but has a relatively low number of reviews overall.\n",
    "\n",
    "I now want to look into a correlation of the dataset variables."
   ]
  },
  {
   "cell_type": "code",
   "execution_count": 26,
   "metadata": {},
   "outputs": [
    {
     "data": {
      "text/html": [
       "<div>\n",
       "<style scoped>\n",
       "    .dataframe tbody tr th:only-of-type {\n",
       "        vertical-align: middle;\n",
       "    }\n",
       "\n",
       "    .dataframe tbody tr th {\n",
       "        vertical-align: top;\n",
       "    }\n",
       "\n",
       "    .dataframe thead th {\n",
       "        text-align: right;\n",
       "    }\n",
       "</style>\n",
       "<table border=\"1\" class=\"dataframe\">\n",
       "  <thead>\n",
       "    <tr style=\"text-align: right;\">\n",
       "      <th></th>\n",
       "      <th>Age</th>\n",
       "      <th>Rating</th>\n",
       "      <th>Recommended IND</th>\n",
       "      <th>Positive Feedback Count</th>\n",
       "      <th>Length</th>\n",
       "    </tr>\n",
       "  </thead>\n",
       "  <tbody>\n",
       "    <tr>\n",
       "      <th>Age</th>\n",
       "      <td>1.000000</td>\n",
       "      <td>0.029962</td>\n",
       "      <td>0.034208</td>\n",
       "      <td>0.040850</td>\n",
       "      <td>0.014931</td>\n",
       "    </tr>\n",
       "    <tr>\n",
       "      <th>Rating</th>\n",
       "      <td>0.029962</td>\n",
       "      <td>1.000000</td>\n",
       "      <td>0.792568</td>\n",
       "      <td>-0.060984</td>\n",
       "      <td>-0.056199</td>\n",
       "    </tr>\n",
       "    <tr>\n",
       "      <th>Recommended IND</th>\n",
       "      <td>0.034208</td>\n",
       "      <td>0.792568</td>\n",
       "      <td>1.000000</td>\n",
       "      <td>-0.065923</td>\n",
       "      <td>-0.031519</td>\n",
       "    </tr>\n",
       "    <tr>\n",
       "      <th>Positive Feedback Count</th>\n",
       "      <td>0.040850</td>\n",
       "      <td>-0.060984</td>\n",
       "      <td>-0.065923</td>\n",
       "      <td>1.000000</td>\n",
       "      <td>0.191195</td>\n",
       "    </tr>\n",
       "    <tr>\n",
       "      <th>Length</th>\n",
       "      <td>0.014931</td>\n",
       "      <td>-0.056199</td>\n",
       "      <td>-0.031519</td>\n",
       "      <td>0.191195</td>\n",
       "      <td>1.000000</td>\n",
       "    </tr>\n",
       "  </tbody>\n",
       "</table>\n",
       "</div>"
      ],
      "text/plain": [
       "                              Age    Rating  Recommended IND  \\\n",
       "Age                      1.000000  0.029962         0.034208   \n",
       "Rating                   0.029962  1.000000         0.792568   \n",
       "Recommended IND          0.034208  0.792568         1.000000   \n",
       "Positive Feedback Count  0.040850 -0.060984        -0.065923   \n",
       "Length                   0.014931 -0.056199        -0.031519   \n",
       "\n",
       "                         Positive Feedback Count    Length  \n",
       "Age                                     0.040850  0.014931  \n",
       "Rating                                 -0.060984 -0.056199  \n",
       "Recommended IND                        -0.065923 -0.031519  \n",
       "Positive Feedback Count                 1.000000  0.191195  \n",
       "Length                                  0.191195  1.000000  "
      ]
     },
     "execution_count": 26,
     "metadata": {},
     "output_type": "execute_result"
    }
   ],
   "source": [
    "corr = ecom.corr()\n",
    "corr"
   ]
  },
  {
   "cell_type": "code",
   "execution_count": 27,
   "metadata": {},
   "outputs": [
    {
     "data": {
      "text/plain": [
       "[Text(0.5,0,'Age'),\n",
       " Text(1.5,0,'Rating'),\n",
       " Text(2.5,0,'Recommended IND'),\n",
       " Text(3.5,0,'Positive Feedback Count'),\n",
       " Text(4.5,0,'Length')]"
      ]
     },
     "execution_count": 27,
     "metadata": {},
     "output_type": "execute_result"
    },
    {
     "data": {
      "image/png": "[encoded data removed]",
      "text/plain": [
       "<Figure size 432x288 with 2 Axes>"
      ]
     },
     "metadata": {},
     "output_type": "display_data"
    }
   ],
   "source": [
    "ax = sns.heatmap(\n",
    "    corr,\n",
    "    vmin = -1, vmax = 1, center = 0,\n",
    "    cmap=sns.diverging_palette(20,220,n=200),\n",
    "    square = True)\n",
    "ax.set_xticklabels(ax.get_xticklabels(),\n",
    "                  rotation=45,\n",
    "                  horizontalalignment = 'right')"
   ]
  },
  {
   "cell_type": "markdown",
   "metadata": {},
   "source": [
    "Not many of the variables are correlated, but there is a strong correlation between the Rating and the Recommendation Indicator (Recommended IND). This is to be expected, as people who rate the item higher and more likely to recommend the item as they enjoyed using or owning that item. The next closest correlation is between the positive feedback count and the length, meaning that as length increases, the positive feedback count also increases. This correlation is low in significance, but is interesting to keep in mind.\n",
    "\n",
    "Next, I want to look into the length of reviews overall."
   ]
  },
  {
   "cell_type": "code",
   "execution_count": 28,
   "metadata": {},
   "outputs": [
    {
     "data": {
      "image/png": "[encoded data removed]",
      "text/plain": [
       "<Figure size 720x360 with 1 Axes>"
      ]
     },
     "metadata": {},
     "output_type": "display_data"
    }
   ],
   "source": [
    "fig = plt.figure(figsize = (10, 5))\n",
    "ax = sns.distplot(ecom['Length'], color = \"blue\")\n",
    "ax = plt.title(\"Length of Reviews\")"
   ]
  },
  {
   "cell_type": "markdown",
   "metadata": {},
   "source": [
    "This graph is interesting because there is obviously a skew towards longer reviews, but otherwise the graph is a bell curve. We should look into the descriptive statistics of the length variable."
   ]
  },
  {
   "cell_type": "code",
   "execution_count": 30,
   "metadata": {},
   "outputs": [
    {
     "data": {
      "text/plain": [
       "count    22641.000000\n",
       "mean       308.687911\n",
       "std        143.940048\n",
       "min          9.000000\n",
       "25%        186.000000\n",
       "50%        301.000000\n",
       "75%        459.000000\n",
       "max        508.000000\n",
       "Name: Length, dtype: float64"
      ]
     },
     "execution_count": 30,
     "metadata": {},
     "output_type": "execute_result"
    }
   ],
   "source": [
    "ecom['Length'].describe()"
   ]
  },
  {
   "cell_type": "markdown",
   "metadata": {},
   "source": [
    "The mean of the data set is 308 words, with the maximum being 508. This is important to know that most of the data is not consisting of small review texts that wouldn't provide much input to the study (such as \"Great!\" \"Loved it!\") that aren't great feedback for the company overall. Having longer reviews can provide context to the rating, however it can lead to a more intensive process for marketing professionals to parse through hundreds of reviews to gain insights. The sentiment analysis model we are constructing is hopefully going to solve that."
   ]
  },
  {
   "cell_type": "markdown",
   "metadata": {},
   "source": [
    "Moving on, let's find out how many times some words were used. "
   ]
  },
  {
   "cell_type": "code",
   "execution_count": null,
   "metadata": {},
   "outputs": [],
   "source": []
  },
  {
   "cell_type": "code",
   "execution_count": 31,
   "metadata": {},
   "outputs": [],
   "source": [
    "vectorizer = CountVectorizer()\n",
    "analyzer = vectorizer.build_analyzer()"
   ]
  },
  {
   "cell_type": "code",
   "execution_count": 32,
   "metadata": {},
   "outputs": [],
   "source": [
    "def wordcounts(s):\n",
    "    c = {}\n",
    "    if analyzer(s):\n",
    "        d= {}\n",
    "        w = vectorizer.fit_transform([s]).toarray()\n",
    "        vc = vectorizer.vocabulary_\n",
    "        for k,v in vc.items():\n",
    "            d[v]=k\n",
    "        for index,i in enumerate(w[0]):\n",
    "            c[d[index]] = i\n",
    "    return c"
   ]
  },
  {
   "cell_type": "code",
   "execution_count": 33,
   "metadata": {},
   "outputs": [],
   "source": [
    "ecom[\"Word Counts\"] = ecom[\"Review Text\"].apply(wordcounts)"
   ]
  },
  {
   "cell_type": "code",
   "execution_count": 34,
   "metadata": {},
   "outputs": [
    {
     "data": {
      "text/html": [
       "<div>\n",
       "<style scoped>\n",
       "    .dataframe tbody tr th:only-of-type {\n",
       "        vertical-align: middle;\n",
       "    }\n",
       "\n",
       "    .dataframe tbody tr th {\n",
       "        vertical-align: top;\n",
       "    }\n",
       "\n",
       "    .dataframe thead th {\n",
       "        text-align: right;\n",
       "    }\n",
       "</style>\n",
       "<table border=\"1\" class=\"dataframe\">\n",
       "  <thead>\n",
       "    <tr style=\"text-align: right;\">\n",
       "      <th></th>\n",
       "      <th>Age</th>\n",
       "      <th>Title</th>\n",
       "      <th>Review Text</th>\n",
       "      <th>Rating</th>\n",
       "      <th>Recommended IND</th>\n",
       "      <th>Positive Feedback Count</th>\n",
       "      <th>Division Name</th>\n",
       "      <th>Department Name</th>\n",
       "      <th>Class Name</th>\n",
       "      <th>Length</th>\n",
       "      <th>Word Counts</th>\n",
       "    </tr>\n",
       "    <tr>\n",
       "      <th>Clothing ID</th>\n",
       "      <th></th>\n",
       "      <th></th>\n",
       "      <th></th>\n",
       "      <th></th>\n",
       "      <th></th>\n",
       "      <th></th>\n",
       "      <th></th>\n",
       "      <th></th>\n",
       "      <th></th>\n",
       "      <th></th>\n",
       "      <th></th>\n",
       "    </tr>\n",
       "  </thead>\n",
       "  <tbody>\n",
       "    <tr>\n",
       "      <th>767</th>\n",
       "      <td>33</td>\n",
       "      <td>NaN</td>\n",
       "      <td>Absolutely wonderful - silky and sexy and comf...</td>\n",
       "      <td>4</td>\n",
       "      <td>1</td>\n",
       "      <td>0</td>\n",
       "      <td>Initmates</td>\n",
       "      <td>Intimate</td>\n",
       "      <td>Intimates</td>\n",
       "      <td>53</td>\n",
       "      <td>{'absolutely': 1, 'and': 2, 'comfortable': 1, ...</td>\n",
       "    </tr>\n",
       "    <tr>\n",
       "      <th>1080</th>\n",
       "      <td>34</td>\n",
       "      <td>NaN</td>\n",
       "      <td>Love this dress!  it's sooo pretty.  i happene...</td>\n",
       "      <td>5</td>\n",
       "      <td>1</td>\n",
       "      <td>4</td>\n",
       "      <td>General</td>\n",
       "      <td>Dresses</td>\n",
       "      <td>Dresses</td>\n",
       "      <td>303</td>\n",
       "      <td>{'am': 1, 'and': 2, 'bc': 2, 'be': 1, 'below':...</td>\n",
       "    </tr>\n",
       "    <tr>\n",
       "      <th>1077</th>\n",
       "      <td>60</td>\n",
       "      <td>Some major design flaws</td>\n",
       "      <td>I had such high hopes for this dress and reall...</td>\n",
       "      <td>3</td>\n",
       "      <td>0</td>\n",
       "      <td>0</td>\n",
       "      <td>General</td>\n",
       "      <td>Dresses</td>\n",
       "      <td>Dresses</td>\n",
       "      <td>500</td>\n",
       "      <td>{'and': 3, 'be': 1, 'bottom': 1, 'but': 2, 'ch...</td>\n",
       "    </tr>\n",
       "    <tr>\n",
       "      <th>1049</th>\n",
       "      <td>50</td>\n",
       "      <td>My favorite buy!</td>\n",
       "      <td>I love, love, love this jumpsuit. it's fun, fl...</td>\n",
       "      <td>5</td>\n",
       "      <td>1</td>\n",
       "      <td>0</td>\n",
       "      <td>General Petite</td>\n",
       "      <td>Bottoms</td>\n",
       "      <td>Pants</td>\n",
       "      <td>124</td>\n",
       "      <td>{'and': 1, 'but': 1, 'compliments': 1, 'every'...</td>\n",
       "    </tr>\n",
       "    <tr>\n",
       "      <th>847</th>\n",
       "      <td>47</td>\n",
       "      <td>Flattering shirt</td>\n",
       "      <td>This shirt is very flattering to all due to th...</td>\n",
       "      <td>5</td>\n",
       "      <td>1</td>\n",
       "      <td>6</td>\n",
       "      <td>General</td>\n",
       "      <td>Tops</td>\n",
       "      <td>Blouses</td>\n",
       "      <td>192</td>\n",
       "      <td>{'adjustable': 1, 'all': 1, 'and': 1, 'any': 1...</td>\n",
       "    </tr>\n",
       "  </tbody>\n",
       "</table>\n",
       "</div>"
      ],
      "text/plain": [
       "             Age                    Title  \\\n",
       "Clothing ID                                 \n",
       "767           33                      NaN   \n",
       "1080          34                      NaN   \n",
       "1077          60  Some major design flaws   \n",
       "1049          50         My favorite buy!   \n",
       "847           47         Flattering shirt   \n",
       "\n",
       "                                                   Review Text  Rating  \\\n",
       "Clothing ID                                                              \n",
       "767          Absolutely wonderful - silky and sexy and comf...       4   \n",
       "1080         Love this dress!  it's sooo pretty.  i happene...       5   \n",
       "1077         I had such high hopes for this dress and reall...       3   \n",
       "1049         I love, love, love this jumpsuit. it's fun, fl...       5   \n",
       "847          This shirt is very flattering to all due to th...       5   \n",
       "\n",
       "             Recommended IND  Positive Feedback Count   Division Name  \\\n",
       "Clothing ID                                                             \n",
       "767                        1                        0       Initmates   \n",
       "1080                       1                        4         General   \n",
       "1077                       0                        0         General   \n",
       "1049                       1                        0  General Petite   \n",
       "847                        1                        6         General   \n",
       "\n",
       "            Department Name Class Name  Length  \\\n",
       "Clothing ID                                      \n",
       "767                Intimate  Intimates      53   \n",
       "1080                Dresses    Dresses     303   \n",
       "1077                Dresses    Dresses     500   \n",
       "1049                Bottoms      Pants     124   \n",
       "847                    Tops    Blouses     192   \n",
       "\n",
       "                                                   Word Counts  \n",
       "Clothing ID                                                     \n",
       "767          {'absolutely': 1, 'and': 2, 'comfortable': 1, ...  \n",
       "1080         {'am': 1, 'and': 2, 'bc': 2, 'be': 1, 'below':...  \n",
       "1077         {'and': 3, 'be': 1, 'bottom': 1, 'but': 2, 'ch...  \n",
       "1049         {'and': 1, 'but': 1, 'compliments': 1, 'every'...  \n",
       "847          {'adjustable': 1, 'all': 1, 'and': 1, 'any': 1...  "
      ]
     },
     "execution_count": 34,
     "metadata": {},
     "output_type": "execute_result"
    }
   ],
   "source": [
    "ecom.head()"
   ]
  },
  {
   "cell_type": "markdown",
   "metadata": {},
   "source": [
    "We are now going to see what the word desnities are, particularly looking at sentiment such as love or hate. "
   ]
  },
  {
   "cell_type": "code",
   "execution_count": 35,
   "metadata": {},
   "outputs": [],
   "source": [
    "selectedwords = ['awesome','great','fantastic','amazing','super',\n",
    "                 'magnificent','stunning','impressive','wonderful',\n",
    "                 'love','content','pleased','happy','glad','satisfied','lucky',\n",
    "                'cheerful','wow','sad','unhappy','horrible','regret',\n",
    "                 'bad','terrible','annoyed','disappointed','upset','awful','hate']"
   ]
  },
  {
   "cell_type": "code",
   "execution_count": 36,
   "metadata": {},
   "outputs": [],
   "source": [
    "def selectedcount(dic, word):\n",
    "    if word in dic: \n",
    "        return dic[word]\n",
    "    else:\n",
    "        return 0"
   ]
  },
  {
   "cell_type": "code",
   "execution_count": 37,
   "metadata": {},
   "outputs": [],
   "source": [
    "ecomwc = ecom.copy()\n",
    "for word in selectedwords:\n",
    "    ecomwc[word] = ecomwc['Word Counts'].apply(selectedcount, args = (word,))"
   ]
  },
  {
   "cell_type": "code",
   "execution_count": 38,
   "metadata": {},
   "outputs": [
    {
     "name": "stdout",
     "output_type": "stream",
     "text": [
      "Selected Words\n",
      "love     8951\n",
      "great    6117\n",
      "super    1726\n",
      "happy     705\n",
      "glad      614\n",
      "dtype: int64\n",
      "\n",
      "Class Names\n",
      "Dresses     6145\n",
      "Knits       4626\n",
      "Blouses     2983\n",
      "Sweaters    1380\n",
      "Pants       1350\n",
      "Name: Class Name, dtype: int64\n"
     ]
    }
   ],
   "source": [
    "word_sum = ecomwc[selectedwords].sum()\n",
    "print(\"Selected Words\")\n",
    "print(word_sum.sort_values(ascending=False).iloc[:5])\n",
    "\n",
    "print(\"\\nClass Names\")\n",
    "print(ecom['Class Name'].fillna(\"Empty\").value_counts().iloc[:5])"
   ]
  },
  {
   "cell_type": "markdown",
   "metadata": {},
   "source": [
    "It seems that positive words such as love, great, super, and happy were used more often than negative words. The classes that people preferred to talk about were dresses and knits. "
   ]
  },
  {
   "cell_type": "markdown",
   "metadata": {},
   "source": [
    "## Model Creation"
   ]
  },
  {
   "cell_type": "markdown",
   "metadata": {},
   "source": [
    "Moving on to creating the sentiment classifier, I first needed to create a column that shows the sentiment as positive or negative in the dataset. For the purpose of being able to classify reviews, I am putting reviews that are rated 4 or 5 as positive (or True), and ratings of 2 or lower as negative (False). Reviews that contained neutral ratings (3) were excluded."
   ]
  },
  {
   "cell_type": "code",
   "execution_count": 40,
   "metadata": {},
   "outputs": [
    {
     "data": {
      "text/html": [
       "<div>\n",
       "<style scoped>\n",
       "    .dataframe tbody tr th:only-of-type {\n",
       "        vertical-align: middle;\n",
       "    }\n",
       "\n",
       "    .dataframe tbody tr th {\n",
       "        vertical-align: top;\n",
       "    }\n",
       "\n",
       "    .dataframe thead th {\n",
       "        text-align: right;\n",
       "    }\n",
       "</style>\n",
       "<table border=\"1\" class=\"dataframe\">\n",
       "  <thead>\n",
       "    <tr style=\"text-align: right;\">\n",
       "      <th></th>\n",
       "      <th>Age</th>\n",
       "      <th>Title</th>\n",
       "      <th>Review Text</th>\n",
       "      <th>Rating</th>\n",
       "      <th>Recommended IND</th>\n",
       "      <th>Positive Feedback Count</th>\n",
       "      <th>Division Name</th>\n",
       "      <th>Department Name</th>\n",
       "      <th>Class Name</th>\n",
       "      <th>Length</th>\n",
       "      <th>Word Counts</th>\n",
       "      <th>Sentiment</th>\n",
       "    </tr>\n",
       "    <tr>\n",
       "      <th>Clothing ID</th>\n",
       "      <th></th>\n",
       "      <th></th>\n",
       "      <th></th>\n",
       "      <th></th>\n",
       "      <th></th>\n",
       "      <th></th>\n",
       "      <th></th>\n",
       "      <th></th>\n",
       "      <th></th>\n",
       "      <th></th>\n",
       "      <th></th>\n",
       "      <th></th>\n",
       "    </tr>\n",
       "  </thead>\n",
       "  <tbody>\n",
       "    <tr>\n",
       "      <th>767</th>\n",
       "      <td>33</td>\n",
       "      <td>NaN</td>\n",
       "      <td>Absolutely wonderful - silky and sexy and comf...</td>\n",
       "      <td>4</td>\n",
       "      <td>1</td>\n",
       "      <td>0</td>\n",
       "      <td>Initmates</td>\n",
       "      <td>Intimate</td>\n",
       "      <td>Intimates</td>\n",
       "      <td>53</td>\n",
       "      <td>{'absolutely': 1, 'and': 2, 'comfortable': 1, ...</td>\n",
       "      <td>True</td>\n",
       "    </tr>\n",
       "    <tr>\n",
       "      <th>1080</th>\n",
       "      <td>34</td>\n",
       "      <td>NaN</td>\n",
       "      <td>Love this dress!  it's sooo pretty.  i happene...</td>\n",
       "      <td>5</td>\n",
       "      <td>1</td>\n",
       "      <td>4</td>\n",
       "      <td>General</td>\n",
       "      <td>Dresses</td>\n",
       "      <td>Dresses</td>\n",
       "      <td>303</td>\n",
       "      <td>{'am': 1, 'and': 2, 'bc': 2, 'be': 1, 'below':...</td>\n",
       "      <td>True</td>\n",
       "    </tr>\n",
       "    <tr>\n",
       "      <th>1049</th>\n",
       "      <td>50</td>\n",
       "      <td>My favorite buy!</td>\n",
       "      <td>I love, love, love this jumpsuit. it's fun, fl...</td>\n",
       "      <td>5</td>\n",
       "      <td>1</td>\n",
       "      <td>0</td>\n",
       "      <td>General Petite</td>\n",
       "      <td>Bottoms</td>\n",
       "      <td>Pants</td>\n",
       "      <td>124</td>\n",
       "      <td>{'and': 1, 'but': 1, 'compliments': 1, 'every'...</td>\n",
       "      <td>True</td>\n",
       "    </tr>\n",
       "    <tr>\n",
       "      <th>847</th>\n",
       "      <td>47</td>\n",
       "      <td>Flattering shirt</td>\n",
       "      <td>This shirt is very flattering to all due to th...</td>\n",
       "      <td>5</td>\n",
       "      <td>1</td>\n",
       "      <td>6</td>\n",
       "      <td>General</td>\n",
       "      <td>Tops</td>\n",
       "      <td>Blouses</td>\n",
       "      <td>192</td>\n",
       "      <td>{'adjustable': 1, 'all': 1, 'and': 1, 'any': 1...</td>\n",
       "      <td>True</td>\n",
       "    </tr>\n",
       "    <tr>\n",
       "      <th>1080</th>\n",
       "      <td>49</td>\n",
       "      <td>Not for the very petite</td>\n",
       "      <td>I love tracy reese dresses, but this one is no...</td>\n",
       "      <td>2</td>\n",
       "      <td>0</td>\n",
       "      <td>4</td>\n",
       "      <td>General</td>\n",
       "      <td>Dresses</td>\n",
       "      <td>Dresses</td>\n",
       "      <td>488</td>\n",
       "      <td>{'0p': 1, 'alterations': 1, 'am': 1, 'and': 4,...</td>\n",
       "      <td>False</td>\n",
       "    </tr>\n",
       "  </tbody>\n",
       "</table>\n",
       "</div>"
      ],
      "text/plain": [
       "             Age                    Title  \\\n",
       "Clothing ID                                 \n",
       "767           33                      NaN   \n",
       "1080          34                      NaN   \n",
       "1049          50         My favorite buy!   \n",
       "847           47         Flattering shirt   \n",
       "1080          49  Not for the very petite   \n",
       "\n",
       "                                                   Review Text  Rating  \\\n",
       "Clothing ID                                                              \n",
       "767          Absolutely wonderful - silky and sexy and comf...       4   \n",
       "1080         Love this dress!  it's sooo pretty.  i happene...       5   \n",
       "1049         I love, love, love this jumpsuit. it's fun, fl...       5   \n",
       "847          This shirt is very flattering to all due to th...       5   \n",
       "1080         I love tracy reese dresses, but this one is no...       2   \n",
       "\n",
       "             Recommended IND  Positive Feedback Count   Division Name  \\\n",
       "Clothing ID                                                             \n",
       "767                        1                        0       Initmates   \n",
       "1080                       1                        4         General   \n",
       "1049                       1                        0  General Petite   \n",
       "847                        1                        6         General   \n",
       "1080                       0                        4         General   \n",
       "\n",
       "            Department Name Class Name  Length  \\\n",
       "Clothing ID                                      \n",
       "767                Intimate  Intimates      53   \n",
       "1080                Dresses    Dresses     303   \n",
       "1049                Bottoms      Pants     124   \n",
       "847                    Tops    Blouses     192   \n",
       "1080                Dresses    Dresses     488   \n",
       "\n",
       "                                                   Word Counts  Sentiment  \n",
       "Clothing ID                                                                \n",
       "767          {'absolutely': 1, 'and': 2, 'comfortable': 1, ...       True  \n",
       "1080         {'am': 1, 'and': 2, 'bc': 2, 'be': 1, 'below':...       True  \n",
       "1049         {'and': 1, 'but': 1, 'compliments': 1, 'every'...       True  \n",
       "847          {'adjustable': 1, 'all': 1, 'and': 1, 'any': 1...       True  \n",
       "1080         {'0p': 1, 'alterations': 1, 'am': 1, 'and': 4,...      False  "
      ]
     },
     "execution_count": 40,
     "metadata": {},
     "output_type": "execute_result"
    }
   ],
   "source": [
    "ecom = ecom[ecom[\"Rating\"] != 3]\n",
    "ecom[\"Sentiment\"] = ecom[\"Rating\"] >= 4\n",
    "ecom.head()"
   ]
  },
  {
   "cell_type": "markdown",
   "metadata": {},
   "source": [
    "I am now splitting the dataset into a training and a test set. "
   ]
  },
  {
   "cell_type": "code",
   "execution_count": 41,
   "metadata": {},
   "outputs": [],
   "source": [
    "train_data, test_data = train_test_split(ecom, train_size = 0.8, random_state = 0)\n",
    "X_train = vectorizer.fit_transform(train_data[\"Review Text\"])\n",
    "y_train = train_data[\"Sentiment\"]\n",
    "X_test = vectorizer.transform(test_data[\"Review Text\"])\n",
    "y_test = test_data[\"Sentiment\"]"
   ]
  },
  {
   "cell_type": "markdown",
   "metadata": {},
   "source": [
    "Logistic Regression"
   ]
  },
  {
   "cell_type": "code",
   "execution_count": 42,
   "metadata": {},
   "outputs": [
    {
     "name": "stdout",
     "output_type": "stream",
     "text": [
      "Elapsed time:  0:00:01.474803\n"
     ]
    }
   ],
   "source": [
    "start = dt.datetime.now()\n",
    "lr = LogisticRegression()\n",
    "lr.fit(X_train, y_train)\n",
    "print(\"Elapsed time: \", str(dt.datetime.now()-start))"
   ]
  },
  {
   "cell_type": "markdown",
   "metadata": {},
   "source": [
    "Naive Bayes"
   ]
  },
  {
   "cell_type": "code",
   "execution_count": 43,
   "metadata": {},
   "outputs": [
    {
     "name": "stdout",
     "output_type": "stream",
     "text": [
      "Elapsed time:  0:00:00.239662\n"
     ]
    }
   ],
   "source": [
    "start=dt.datetime.now()\n",
    "nb = MultinomialNB()\n",
    "nb.fit(X_train,y_train)\n",
    "print('Elapsed time: ',str(dt.datetime.now()-start))"
   ]
  },
  {
   "cell_type": "markdown",
   "metadata": {},
   "source": [
    "Support Vector Machine (SVM)"
   ]
  },
  {
   "cell_type": "code",
   "execution_count": 44,
   "metadata": {},
   "outputs": [
    {
     "name": "stdout",
     "output_type": "stream",
     "text": [
      "Elapsed time:  0:00:43.407053\n"
     ]
    }
   ],
   "source": [
    "start=dt.datetime.now()\n",
    "svm = SVC()\n",
    "svm.fit(X_train,y_train)\n",
    "print('Elapsed time: ',str(dt.datetime.now()-start))"
   ]
  },
  {
   "cell_type": "markdown",
   "metadata": {},
   "source": [
    "Neural Network"
   ]
  },
  {
   "cell_type": "code",
   "execution_count": 45,
   "metadata": {},
   "outputs": [
    {
     "name": "stdout",
     "output_type": "stream",
     "text": [
      "Elapsed time:  0:03:44.088380\n"
     ]
    }
   ],
   "source": [
    "start=dt.datetime.now()\n",
    "nn = MLPClassifier()\n",
    "nn.fit(X_train,y_train)\n",
    "print('Elapsed time: ',str(dt.datetime.now()-start))"
   ]
  },
  {
   "cell_type": "markdown",
   "metadata": {},
   "source": [
    "I am now going to add these results to the dataframe, ecom. I am first adding the prediction results to the training data."
   ]
  },
  {
   "cell_type": "code",
   "execution_count": 46,
   "metadata": {},
   "outputs": [
    {
     "data": {
      "text/html": [
       "<div>\n",
       "<style scoped>\n",
       "    .dataframe tbody tr th:only-of-type {\n",
       "        vertical-align: middle;\n",
       "    }\n",
       "\n",
       "    .dataframe tbody tr th {\n",
       "        vertical-align: top;\n",
       "    }\n",
       "\n",
       "    .dataframe thead th {\n",
       "        text-align: right;\n",
       "    }\n",
       "</style>\n",
       "<table border=\"1\" class=\"dataframe\">\n",
       "  <thead>\n",
       "    <tr style=\"text-align: right;\">\n",
       "      <th></th>\n",
       "      <th>Age</th>\n",
       "      <th>Title</th>\n",
       "      <th>Review Text</th>\n",
       "      <th>Rating</th>\n",
       "      <th>Recommended IND</th>\n",
       "      <th>Positive Feedback Count</th>\n",
       "      <th>Division Name</th>\n",
       "      <th>Department Name</th>\n",
       "      <th>Class Name</th>\n",
       "      <th>Length</th>\n",
       "      <th>Word Counts</th>\n",
       "      <th>Sentiment</th>\n",
       "      <th>Logistic Regression</th>\n",
       "      <th>Naive Bayes</th>\n",
       "      <th>SVM</th>\n",
       "      <th>Neural Network</th>\n",
       "    </tr>\n",
       "    <tr>\n",
       "      <th>Clothing ID</th>\n",
       "      <th></th>\n",
       "      <th></th>\n",
       "      <th></th>\n",
       "      <th></th>\n",
       "      <th></th>\n",
       "      <th></th>\n",
       "      <th></th>\n",
       "      <th></th>\n",
       "      <th></th>\n",
       "      <th></th>\n",
       "      <th></th>\n",
       "      <th></th>\n",
       "      <th></th>\n",
       "      <th></th>\n",
       "      <th></th>\n",
       "      <th></th>\n",
       "    </tr>\n",
       "  </thead>\n",
       "  <tbody>\n",
       "    <tr>\n",
       "      <th>1094</th>\n",
       "      <td>59</td>\n",
       "      <td>NaN</td>\n",
       "      <td>Love this dress so beautiful embroidery is lov...</td>\n",
       "      <td>5</td>\n",
       "      <td>1</td>\n",
       "      <td>0</td>\n",
       "      <td>General</td>\n",
       "      <td>Dresses</td>\n",
       "      <td>Dresses</td>\n",
       "      <td>76</td>\n",
       "      <td>{'beautiful': 1, 'dress': 1, 'embroidery': 1, ...</td>\n",
       "      <td>True</td>\n",
       "      <td>True</td>\n",
       "      <td>True</td>\n",
       "      <td>True</td>\n",
       "      <td>True</td>\n",
       "    </tr>\n",
       "    <tr>\n",
       "      <th>867</th>\n",
       "      <td>52</td>\n",
       "      <td>Cute top</td>\n",
       "      <td>I got this top in white and it is cute. the fa...</td>\n",
       "      <td>4</td>\n",
       "      <td>1</td>\n",
       "      <td>1</td>\n",
       "      <td>General</td>\n",
       "      <td>Tops</td>\n",
       "      <td>Knits</td>\n",
       "      <td>175</td>\n",
       "      <td>{'and': 3, 'around': 1, 'chest': 1, 'cute': 1,...</td>\n",
       "      <td>True</td>\n",
       "      <td>True</td>\n",
       "      <td>True</td>\n",
       "      <td>True</td>\n",
       "      <td>True</td>\n",
       "    </tr>\n",
       "    <tr>\n",
       "      <th>863</th>\n",
       "      <td>21</td>\n",
       "      <td>Light and airy</td>\n",
       "      <td>I got this shirt in light blue. i absolutely l...</td>\n",
       "      <td>4</td>\n",
       "      <td>1</td>\n",
       "      <td>0</td>\n",
       "      <td>General</td>\n",
       "      <td>Tops</td>\n",
       "      <td>Knits</td>\n",
       "      <td>291</td>\n",
       "      <td>{'85': 1, 'absolutely': 1, 'am': 1, 'an': 1, '...</td>\n",
       "      <td>True</td>\n",
       "      <td>True</td>\n",
       "      <td>True</td>\n",
       "      <td>True</td>\n",
       "      <td>True</td>\n",
       "    </tr>\n",
       "    <tr>\n",
       "      <th>872</th>\n",
       "      <td>45</td>\n",
       "      <td>Versatile</td>\n",
       "      <td>Great color and fabric! a bit on the sheer sid...</td>\n",
       "      <td>5</td>\n",
       "      <td>1</td>\n",
       "      <td>0</td>\n",
       "      <td>General Petite</td>\n",
       "      <td>Tops</td>\n",
       "      <td>Knits</td>\n",
       "      <td>320</td>\n",
       "      <td>{'additional': 1, 'and': 3, 'available': 1, 'b...</td>\n",
       "      <td>True</td>\n",
       "      <td>True</td>\n",
       "      <td>True</td>\n",
       "      <td>True</td>\n",
       "      <td>True</td>\n",
       "    </tr>\n",
       "    <tr>\n",
       "      <th>996</th>\n",
       "      <td>40</td>\n",
       "      <td>If you're craving the marsupial look...</td>\n",
       "      <td>Then this one is for you! so disappointed upon...</td>\n",
       "      <td>2</td>\n",
       "      <td>0</td>\n",
       "      <td>6</td>\n",
       "      <td>General</td>\n",
       "      <td>Bottoms</td>\n",
       "      <td>Skirts</td>\n",
       "      <td>499</td>\n",
       "      <td>{'abdomen': 1, 'actually': 1, 'already': 1, 'a...</td>\n",
       "      <td>False</td>\n",
       "      <td>False</td>\n",
       "      <td>False</td>\n",
       "      <td>True</td>\n",
       "      <td>False</td>\n",
       "    </tr>\n",
       "  </tbody>\n",
       "</table>\n",
       "</div>"
      ],
      "text/plain": [
       "             Age                                    Title  \\\n",
       "Clothing ID                                                 \n",
       "1094          59                                      NaN   \n",
       "867           52                                 Cute top   \n",
       "863           21                           Light and airy   \n",
       "872           45                                Versatile   \n",
       "996           40  If you're craving the marsupial look...   \n",
       "\n",
       "                                                   Review Text  Rating  \\\n",
       "Clothing ID                                                              \n",
       "1094         Love this dress so beautiful embroidery is lov...       5   \n",
       "867          I got this top in white and it is cute. the fa...       4   \n",
       "863          I got this shirt in light blue. i absolutely l...       4   \n",
       "872          Great color and fabric! a bit on the sheer sid...       5   \n",
       "996          Then this one is for you! so disappointed upon...       2   \n",
       "\n",
       "             Recommended IND  Positive Feedback Count   Division Name  \\\n",
       "Clothing ID                                                             \n",
       "1094                       1                        0         General   \n",
       "867                        1                        1         General   \n",
       "863                        1                        0         General   \n",
       "872                        1                        0  General Petite   \n",
       "996                        0                        6         General   \n",
       "\n",
       "            Department Name Class Name  Length  \\\n",
       "Clothing ID                                      \n",
       "1094                Dresses    Dresses      76   \n",
       "867                    Tops      Knits     175   \n",
       "863                    Tops      Knits     291   \n",
       "872                    Tops      Knits     320   \n",
       "996                 Bottoms     Skirts     499   \n",
       "\n",
       "                                                   Word Counts  Sentiment  \\\n",
       "Clothing ID                                                                 \n",
       "1094         {'beautiful': 1, 'dress': 1, 'embroidery': 1, ...       True   \n",
       "867          {'and': 3, 'around': 1, 'chest': 1, 'cute': 1,...       True   \n",
       "863          {'85': 1, 'absolutely': 1, 'am': 1, 'an': 1, '...       True   \n",
       "872          {'additional': 1, 'and': 3, 'available': 1, 'b...       True   \n",
       "996          {'abdomen': 1, 'actually': 1, 'already': 1, 'a...      False   \n",
       "\n",
       "             Logistic Regression  Naive Bayes   SVM  Neural Network  \n",
       "Clothing ID                                                          \n",
       "1094                        True         True  True            True  \n",
       "867                         True         True  True            True  \n",
       "863                         True         True  True            True  \n",
       "872                         True         True  True            True  \n",
       "996                        False        False  True           False  "
      ]
     },
     "execution_count": 46,
     "metadata": {},
     "output_type": "execute_result"
    }
   ],
   "source": [
    "df2 = train_data.copy()\n",
    "df2['Logistic Regression'] = lr.predict(X_train)\n",
    "df2['Naive Bayes'] = nb.predict(X_train)\n",
    "df2['SVM'] = svm.predict(X_train)\n",
    "df2['Neural Network'] = nn.predict(X_train)\n",
    "df2.head()"
   ]
  },
  {
   "cell_type": "markdown",
   "metadata": {},
   "source": [
    "I am now going to look at the prediction probabilities of the models in a separate dataset."
   ]
  },
  {
   "cell_type": "code",
   "execution_count": 47,
   "metadata": {},
   "outputs": [
    {
     "data": {
      "text/html": [
       "<div>\n",
       "<style scoped>\n",
       "    .dataframe tbody tr th:only-of-type {\n",
       "        vertical-align: middle;\n",
       "    }\n",
       "\n",
       "    .dataframe tbody tr th {\n",
       "        vertical-align: top;\n",
       "    }\n",
       "\n",
       "    .dataframe thead th {\n",
       "        text-align: right;\n",
       "    }\n",
       "</style>\n",
       "<table border=\"1\" class=\"dataframe\">\n",
       "  <thead>\n",
       "    <tr style=\"text-align: right;\">\n",
       "      <th></th>\n",
       "      <th>Age</th>\n",
       "      <th>Title</th>\n",
       "      <th>Review Text</th>\n",
       "      <th>Rating</th>\n",
       "      <th>Recommended IND</th>\n",
       "      <th>Positive Feedback Count</th>\n",
       "      <th>Division Name</th>\n",
       "      <th>Department Name</th>\n",
       "      <th>Class Name</th>\n",
       "      <th>Length</th>\n",
       "      <th>Word Counts</th>\n",
       "      <th>Sentiment</th>\n",
       "      <th>Logistic Regression</th>\n",
       "      <th>Naive Bayes</th>\n",
       "      <th>SVM</th>\n",
       "      <th>Neural Network</th>\n",
       "    </tr>\n",
       "    <tr>\n",
       "      <th>Clothing ID</th>\n",
       "      <th></th>\n",
       "      <th></th>\n",
       "      <th></th>\n",
       "      <th></th>\n",
       "      <th></th>\n",
       "      <th></th>\n",
       "      <th></th>\n",
       "      <th></th>\n",
       "      <th></th>\n",
       "      <th></th>\n",
       "      <th></th>\n",
       "      <th></th>\n",
       "      <th></th>\n",
       "      <th></th>\n",
       "      <th></th>\n",
       "      <th></th>\n",
       "    </tr>\n",
       "  </thead>\n",
       "  <tbody>\n",
       "    <tr>\n",
       "      <th>1094</th>\n",
       "      <td>59</td>\n",
       "      <td>NaN</td>\n",
       "      <td>Love this dress so beautiful embroidery is lov...</td>\n",
       "      <td>5</td>\n",
       "      <td>1</td>\n",
       "      <td>0</td>\n",
       "      <td>General</td>\n",
       "      <td>Dresses</td>\n",
       "      <td>Dresses</td>\n",
       "      <td>76</td>\n",
       "      <td>{'beautiful': 1, 'dress': 1, 'embroidery': 1, ...</td>\n",
       "      <td>True</td>\n",
       "      <td>1.00</td>\n",
       "      <td>1.00</td>\n",
       "      <td>1.02</td>\n",
       "      <td>1.0</td>\n",
       "    </tr>\n",
       "    <tr>\n",
       "      <th>867</th>\n",
       "      <td>52</td>\n",
       "      <td>Cute top</td>\n",
       "      <td>I got this top in white and it is cute. the fa...</td>\n",
       "      <td>4</td>\n",
       "      <td>1</td>\n",
       "      <td>1</td>\n",
       "      <td>General</td>\n",
       "      <td>Tops</td>\n",
       "      <td>Knits</td>\n",
       "      <td>175</td>\n",
       "      <td>{'and': 3, 'around': 1, 'chest': 1, 'cute': 1,...</td>\n",
       "      <td>True</td>\n",
       "      <td>0.91</td>\n",
       "      <td>0.85</td>\n",
       "      <td>1.00</td>\n",
       "      <td>1.0</td>\n",
       "    </tr>\n",
       "    <tr>\n",
       "      <th>863</th>\n",
       "      <td>21</td>\n",
       "      <td>Light and airy</td>\n",
       "      <td>I got this shirt in light blue. i absolutely l...</td>\n",
       "      <td>4</td>\n",
       "      <td>1</td>\n",
       "      <td>0</td>\n",
       "      <td>General</td>\n",
       "      <td>Tops</td>\n",
       "      <td>Knits</td>\n",
       "      <td>291</td>\n",
       "      <td>{'85': 1, 'absolutely': 1, 'am': 1, 'an': 1, '...</td>\n",
       "      <td>True</td>\n",
       "      <td>1.00</td>\n",
       "      <td>1.00</td>\n",
       "      <td>1.03</td>\n",
       "      <td>1.0</td>\n",
       "    </tr>\n",
       "    <tr>\n",
       "      <th>872</th>\n",
       "      <td>45</td>\n",
       "      <td>Versatile</td>\n",
       "      <td>Great color and fabric! a bit on the sheer sid...</td>\n",
       "      <td>5</td>\n",
       "      <td>1</td>\n",
       "      <td>0</td>\n",
       "      <td>General Petite</td>\n",
       "      <td>Tops</td>\n",
       "      <td>Knits</td>\n",
       "      <td>320</td>\n",
       "      <td>{'additional': 1, 'and': 3, 'available': 1, 'b...</td>\n",
       "      <td>True</td>\n",
       "      <td>1.00</td>\n",
       "      <td>1.00</td>\n",
       "      <td>1.03</td>\n",
       "      <td>1.0</td>\n",
       "    </tr>\n",
       "    <tr>\n",
       "      <th>996</th>\n",
       "      <td>40</td>\n",
       "      <td>If you're craving the marsupial look...</td>\n",
       "      <td>Then this one is for you! so disappointed upon...</td>\n",
       "      <td>2</td>\n",
       "      <td>0</td>\n",
       "      <td>6</td>\n",
       "      <td>General</td>\n",
       "      <td>Bottoms</td>\n",
       "      <td>Skirts</td>\n",
       "      <td>499</td>\n",
       "      <td>{'abdomen': 1, 'actually': 1, 'already': 1, 'a...</td>\n",
       "      <td>False</td>\n",
       "      <td>0.00</td>\n",
       "      <td>0.00</td>\n",
       "      <td>0.92</td>\n",
       "      <td>0.0</td>\n",
       "    </tr>\n",
       "  </tbody>\n",
       "</table>\n",
       "</div>"
      ],
      "text/plain": [
       "             Age                                    Title  \\\n",
       "Clothing ID                                                 \n",
       "1094          59                                      NaN   \n",
       "867           52                                 Cute top   \n",
       "863           21                           Light and airy   \n",
       "872           45                                Versatile   \n",
       "996           40  If you're craving the marsupial look...   \n",
       "\n",
       "                                                   Review Text  Rating  \\\n",
       "Clothing ID                                                              \n",
       "1094         Love this dress so beautiful embroidery is lov...       5   \n",
       "867          I got this top in white and it is cute. the fa...       4   \n",
       "863          I got this shirt in light blue. i absolutely l...       4   \n",
       "872          Great color and fabric! a bit on the sheer sid...       5   \n",
       "996          Then this one is for you! so disappointed upon...       2   \n",
       "\n",
       "             Recommended IND  Positive Feedback Count   Division Name  \\\n",
       "Clothing ID                                                             \n",
       "1094                       1                        0         General   \n",
       "867                        1                        1         General   \n",
       "863                        1                        0         General   \n",
       "872                        1                        0  General Petite   \n",
       "996                        0                        6         General   \n",
       "\n",
       "            Department Name Class Name  Length  \\\n",
       "Clothing ID                                      \n",
       "1094                Dresses    Dresses      76   \n",
       "867                    Tops      Knits     175   \n",
       "863                    Tops      Knits     291   \n",
       "872                    Tops      Knits     320   \n",
       "996                 Bottoms     Skirts     499   \n",
       "\n",
       "                                                   Word Counts  Sentiment  \\\n",
       "Clothing ID                                                                 \n",
       "1094         {'beautiful': 1, 'dress': 1, 'embroidery': 1, ...       True   \n",
       "867          {'and': 3, 'around': 1, 'chest': 1, 'cute': 1,...       True   \n",
       "863          {'85': 1, 'absolutely': 1, 'am': 1, 'an': 1, '...       True   \n",
       "872          {'additional': 1, 'and': 3, 'available': 1, 'b...       True   \n",
       "996          {'abdomen': 1, 'actually': 1, 'already': 1, 'a...      False   \n",
       "\n",
       "             Logistic Regression  Naive Bayes   SVM  Neural Network  \n",
       "Clothing ID                                                          \n",
       "1094                        1.00         1.00  1.02             1.0  \n",
       "867                         0.91         0.85  1.00             1.0  \n",
       "863                         1.00         1.00  1.03             1.0  \n",
       "872                         1.00         1.00  1.03             1.0  \n",
       "996                         0.00         0.00  0.92             0.0  "
      ]
     },
     "execution_count": 47,
     "metadata": {},
     "output_type": "execute_result"
    }
   ],
   "source": [
    "df1 = train_data.copy()\n",
    "df1['Logistic Regression'] = lr.predict_proba(X_train)[:,1]\n",
    "df1['Naive Bayes'] = nb.predict_proba(X_train)[:,1]\n",
    "df1['SVM'] = svm.decision_function(X_train)\n",
    "df1['Neural Network'] = nn.predict_proba(X_train)[:,1]\n",
    "df1=df1.round(2)\n",
    "df1.head()"
   ]
  },
  {
   "cell_type": "markdown",
   "metadata": {},
   "source": [
    "I am now going to create ROC curves for the models to illustrate the diagnostic ability as the discrimination threshold is varied. Particularly, we will be using the AUC ROC curve which is used to check model performance."
   ]
  },
  {
   "cell_type": "code",
   "execution_count": 48,
   "metadata": {},
   "outputs": [],
   "source": [
    "pred_lr = lr.predict_proba(X_test)[:,1]\n",
    "fpr_lr,tpr_lr,_ = roc_curve(y_test,pred_lr)\n",
    "roc_auc_lr = auc(fpr_lr,tpr_lr)\n",
    "\n",
    "pred_nb = nb.predict_proba(X_test)[:,1]\n",
    "fpr_nb,tpr_nb,_ = roc_curve(y_test.values,pred_nb)\n",
    "roc_auc_nb = auc(fpr_nb,tpr_nb)\n",
    "\n",
    "pred_svm = svm.decision_function(X_test)\n",
    "fpr_svm,tpr_svm,_ = roc_curve(y_test.values,pred_svm)\n",
    "roc_auc_svm = auc(fpr_svm,tpr_svm)\n",
    "\n",
    "pred_nn = nn.predict_proba(X_test)[:,1]\n",
    "fpr_nn,tpr_nn,_ = roc_curve(y_test.values,pred_nn)\n",
    "roc_auc_nn = auc(fpr_nn,tpr_nn)"
   ]
  },
  {
   "cell_type": "code",
   "execution_count": 49,
   "metadata": {},
   "outputs": [
    {
     "data": {
      "image/png": "[encoded data removed]",
      "text/plain": [
       "<Figure size 1080x720 with 4 Axes>"
      ]
     },
     "metadata": {},
     "output_type": "display_data"
    }
   ],
   "source": [
    "f, axes = plt.subplots(2, 2,figsize=(15,10))\n",
    "axes[0,0].plot(fpr_lr, tpr_lr, color='darkred', lw=2, label='ROC curve (area = {:0.2f})'.format(roc_auc_lr))\n",
    "axes[0,0].plot([0, 1], [0, 1], color='navy', lw=2, linestyle='--')\n",
    "axes[0,0].set(xlim=[-0.01, 1.0], ylim=[-0.01, 1.05])\n",
    "axes[0,0].set(xlabel ='False Positive Rate', ylabel = 'True Positive Rate', title = 'Logistic Regression')\n",
    "axes[0,0].legend(loc='lower right', fontsize=13)\n",
    "\n",
    "axes[0,1].plot(fpr_nb, tpr_nb, color='darkred', lw=2, label='ROC curve (area = {:0.2f})'.format(roc_auc_nb))\n",
    "axes[0,1].plot([0, 1], [0, 1], color='navy', lw=2, linestyle='--')\n",
    "axes[0,1].set(xlim=[-0.01, 1.0], ylim=[-0.01, 1.05])\n",
    "axes[0,1].set(xlabel ='False Positive Rate', ylabel = 'True Positive Rate', title = 'Naive Bayes')\n",
    "axes[0,1].legend(loc='lower right', fontsize=13)\n",
    "\n",
    "axes[1,0].plot(fpr_svm, tpr_svm, color='darkred', lw=2, label='ROC curve (area = {:0.2f})'.format(roc_auc_svm))\n",
    "axes[1,0].plot([0, 1], [0, 1], color='navy', lw=2, linestyle='--')\n",
    "axes[1,0].set(xlim=[-0.01, 1.0], ylim=[-0.01, 1.05])\n",
    "axes[1,0].set(xlabel ='False Positive Rate', ylabel = 'True Positive Rate', title = 'Support Vector Machine')\n",
    "axes[1,0].legend(loc='lower right', fontsize=13)\n",
    "\n",
    "axes[1,1].plot(fpr_nn, tpr_nn, color='darkred', lw=2, label='ROC curve (area = {:0.2f})'.format(roc_auc_nn))\n",
    "axes[1,1].plot([0, 1], [0, 1], color='navy', lw=2, linestyle='--')\n",
    "axes[1,1].set(xlim=[-0.01, 1.0], ylim=[-0.01, 1.05])\n",
    "axes[1,1].set(xlabel ='False Positive Rate', ylabel = 'True Positive Rate', title = 'Neural Network')\n",
    "axes[1,1].legend(loc='lower right', fontsize=13);"
   ]
  },
  {
   "cell_type": "markdown",
   "metadata": {},
   "source": [
    "I am now created a confusion matrix, which is a table that is used to describe the performance of a classification model on the test data for which true values are known. "
   ]
  },
  {
   "cell_type": "code",
   "execution_count": 50,
   "metadata": {
    "scrolled": false
   },
   "outputs": [
    {
     "data": {
      "image/png": "[encoded data removed]",
      "text/plain": [
       "<Figure size 1080x864 with 4 Axes>"
      ]
     },
     "metadata": {},
     "output_type": "display_data"
    }
   ],
   "source": [
    "lr_cm=confusion_matrix(y_test.values, lr.predict(X_test))\n",
    "nb_cm=confusion_matrix(y_test.values, nb.predict(X_test))\n",
    "svm_cm=confusion_matrix(y_test.values, svm.predict(X_test))\n",
    "nn_cm=confusion_matrix(y_test.values, nn.predict(X_test))\n",
    "\n",
    "plt.figure(figsize=(15,12))\n",
    "plt.suptitle(\"Confusion Matrices\",fontsize=24)\n",
    "\n",
    "plt.subplot(2,2,1)\n",
    "plt.title(\"Logistic Regression\")\n",
    "sns.heatmap(lr_cm, annot = True, cmap=\"Greens\",cbar=False);\n",
    "\n",
    "plt.subplot(2,2,2)\n",
    "plt.title(\"Naive Bayes\")\n",
    "sns.heatmap(nb_cm, annot = True, cmap=\"Greens\",cbar=False);\n",
    "\n",
    "plt.subplot(2,2,3)\n",
    "plt.title(\"Support Vector Machine (SVM)\")\n",
    "sns.heatmap(svm_cm, annot = True, cmap=\"Greens\",cbar=False);\n",
    "\n",
    "plt.subplot(2,2,4)\n",
    "plt.title(\"Neural Network\")\n",
    "sns.heatmap(nn_cm, annot = True, cmap=\"Greens\",cbar=False);\n"
   ]
  },
  {
   "cell_type": "markdown",
   "metadata": {},
   "source": [
    "When we look into evaluating these models, Naive Bayes and Logistic Regression have the best results for the data used. When we look at the time it took to complete, Naive Bayes has a lower completition time, which could make this model more beneficial over Logisitc Regression."
   ]
  }
 ],
 "metadata": {
  "kernelspec": {
   "display_name": "Python 3",
   "language": "python",
   "name": "python3"
  },
  "language_info": {
   "codemirror_mode": {
    "name": "ipython",
    "version": 3
   },
   "file_extension": ".py",
   "mimetype": "text/x-python",
   "name": "python",
   "nbconvert_exporter": "python",
   "pygments_lexer": "ipython3",
   "version": "3.7.0"
  }
 },
 "nbformat": 4,
 "nbformat_minor": 2
}
